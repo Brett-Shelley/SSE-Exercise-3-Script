{
 "cells": [
  {
   "cell_type": "markdown",
   "metadata": {},
   "source": [
    "# Load Libraries"
   ]
  },
  {
   "cell_type": "code",
   "execution_count": 1,
   "metadata": {},
   "outputs": [],
   "source": [
    "import numpy\n",
    "import pandas\n",
    "\n",
    "import os\n",
    "os.environ[\"GIT_PYTHON_GIT_EXECUTABLE\"] = \"C:\\Program Files\\Git\\cmd\\git.exe\"\n",
    "\n",
    "import git\n",
    "from git import RemoteProgress\n",
    "from git import Repo\n",
    "\n",
    "from datetime import datetime\n",
    "\n",
    "import statistics\n",
    "from statistics import mode"
   ]
  },
  {
   "cell_type": "markdown",
   "metadata": {},
   "source": [
    "# Initialise & Clone Repos"
   ]
  },
  {
   "cell_type": "markdown",
   "metadata": {},
   "source": [
    "### Jenkins"
   ]
  },
  {
   "cell_type": "code",
   "execution_count": 2,
   "metadata": {},
   "outputs": [],
   "source": [
    "# Initialise and clone Jenkins repo\n",
    "jenkins_remote = \"https://github.com/jenkinsci/jenkins\"\n",
    "jenkins_local = \"repo/jenkins\"\n",
    "# Repo.clone_from(jenkins_remote, jenkins_local) # Uncomment to clone repo\n",
    "jenkins_repo = Repo(jenkins_local)\n",
    "jenkins_commit = \"8830d68f5fe21f344be3496984bc4470bfcd0564\"\n",
    "jenkins_file_1 = \"core\\\\src\\\\main\\\\java\\\\hudson\\\\Plugin.java\"\n",
    "jenkins_file_2 = \"test\\\\src\\\\test\\\\java\\\\hudson\\\\PluginTest.java\""
   ]
  },
  {
   "cell_type": "markdown",
   "metadata": {},
   "source": [
    "### Jython"
   ]
  },
  {
   "cell_type": "code",
   "execution_count": 3,
   "metadata": {},
   "outputs": [],
   "source": [
    "# Initialise and clone Jython repo\n",
    "jython_remote = \"https://github.com/jythontools/jython\"\n",
    "jython_local = \"repo/jython\"\n",
    "# Repo.clone_from(jython_remote, jython_local) # Uncomment to clone repo\n",
    "jython_repo = Repo(jython_local)\n",
    "jython_commit = \"4c337213bd2964bb36cef2d31509b49647ca6f2a\"\n",
    "jython_file_1 = \"Lib\\\\test\\\\test_java_integration.py\"\n",
    "jython_file_2 = \"Lib\\\\test\\\\test_new.py\"\n",
    "jython_file_3 = \"src\\\\org\\\\python\\\\core\\\\PyBytecode.java\"\n",
    "jython_file_4 = \"src\\\\org\\\\python\\\\core\\\\PyFunction.java\""
   ]
  },
  {
   "cell_type": "markdown",
   "metadata": {},
   "source": [
    "### Camel"
   ]
  },
  {
   "cell_type": "code",
   "execution_count": 4,
   "metadata": {},
   "outputs": [],
   "source": [
    "# Initialise and clone Camel repo\n",
    "camel_remote = \"https://github.com/apache/camel\"\n",
    "camel_local = \"repo/camel\"\n",
    "# Repo.clone_from(camel_remote, camel_local) # Uncomment to clone repo\n",
    "camel_repo = Repo(camel_local)\n",
    "camel_commit = \"2e8f21dec883b083ddcdddd802847b4c378a61a2\"\n",
    "camel_file_1 = \"camel-core\\\\src\\\\main\\\\java\\\\org\\\\apache\\\\camel\\\\processor\\\\validation\\\\SchemaReader.java\""
   ]
  },
  {
   "cell_type": "markdown",
   "metadata": {},
   "source": [
    "## Finding VCC"
   ]
  },
  {
   "cell_type": "markdown",
   "metadata": {},
   "source": [
    "### Function To Find VCC"
   ]
  },
  {
   "cell_type": "code",
   "execution_count": 5,
   "metadata": {},
   "outputs": [],
   "source": [
    "def find_vcc(repo, fixing_commit, files):\n",
    "    commits = []\n",
    "    for file in files:\n",
    "        \n",
    "        check = False\n",
    "        minus = []\n",
    "        plus = False\n",
    "\n",
    "        # Get difference between fixing commit and parent commit to find edited lines.\n",
    "        data = repo.git.diff(\"--full-index\", (fixing_commit+\"^\") + \"..\" + fixing_commit, \"--\", file).splitlines()\n",
    "        # Loop through each line of the result of git diff.\n",
    "        for line in data:\n",
    "            # If line defines the line number ranges.\n",
    "            if (len(line) > 0 and line[0] == \"@\"):\n",
    "                # If this is the second line range reached, find all potential VCCs for the previous changes.\n",
    "                if (check):\n",
    "                    # If there were any lines removed.\n",
    "                    if (len(minus) > 0):\n",
    "                        # For each removed line, find the commit that last edited said line and append it to a commits array.\n",
    "                        for x in minus:\n",
    "                            minus_blame = repo.git.blame(\"-L\" + str(x) + \",+1\", (fixing_commit + \"^\"), \"--\", file).splitlines()\n",
    "                            for x_line in minus_blame:\n",
    "                                commits.append(x_line.split(\" \")[0])\n",
    "                    # If there were any lines added.\n",
    "                    if (plus):\n",
    "                        # Find all the commits that last edited the range of lines around the added lines and append it to a commits array.\n",
    "                        plus_blame = repo.git.blame(\"-L\" + child_lines, (fixing_commit + \"^\"), \"--\", file).splitlines()\n",
    "                        for y_line in plus_blame:\n",
    "                            commits.append(y_line.split(\" \")[0])\n",
    "                    minus = []\n",
    "                    plus = False\n",
    "                # Extract the parent and child (fixing commit) line numbers.\n",
    "                parent = line.split(\" \")[1][1:].split(\",\")\n",
    "                child = line.split(\" \")[2][1:].split(\",\")\n",
    "                parent_line = int(parent[0])\n",
    "                child_lines = child[0] + \",+\" + child[1]\n",
    "                check = True\n",
    "            # If lines ranges always found, then start checking shown lines.\n",
    "            elif (check):\n",
    "                # If line begins with a - then it is a removed line, therefore record line number for blame later.\n",
    "                if (len(line) > 0 and line[0] == \"-\"):\n",
    "                    minus.append(parent_line)\n",
    "                    parent_line = parent_line + 1\n",
    "                # If line begins with a + then it is an added line, therefore record that a plus number was found for blame later.\n",
    "                elif (len(line) > 0 and line[0] == \"+\"):\n",
    "                    plus = True\n",
    "                # If regular line, increment line parent_line.\n",
    "                else:\n",
    "                    parent_line = parent_line + 1\n",
    "        # If there is no more lines to read, do final blame and commit checking.\n",
    "        # If there were any lines removed.\n",
    "        if (len(minus) > 0):\n",
    "            # For each removed line, find the commit that last edited said line and append it to a commits array.\n",
    "            for x in minus:\n",
    "                minus_blame = repo.git.blame(\"-L\" + str(x) + \",+1\", (fixing_commit + \"^\"), \"--\", file).splitlines()\n",
    "                for x_line in minus_blame:\n",
    "                    commits.append(x_line.split(\" \")[0])\n",
    "        # If there were any lines added.\n",
    "        if (plus):\n",
    "            # For each removed line, find the commit that last edited said line and append it to a commits array.\n",
    "            plus_blame = repo.git.blame(\"-L\" + child_lines, (fixing_commit + \"^\"), \"--\", file).splitlines()\n",
    "            for y_line in plus_blame:\n",
    "                commits.append(y_line.split(\" \")[0])\n",
    "    \n",
    "    # Find most reoccurring commit using statistics mode which is then considered the VCC.\n",
    "    return mode(commits)"
   ]
  },
  {
   "cell_type": "markdown",
   "metadata": {},
   "source": [
    "### Jenkins"
   ]
  },
  {
   "cell_type": "code",
   "execution_count": 6,
   "metadata": {},
   "outputs": [
    {
     "name": "stdout",
     "output_type": "stream",
     "text": [
      "VCC for Jenkins: eb03a42078f\n"
     ]
    }
   ],
   "source": [
    "jenkins_vcc = find_vcc(jenkins_repo, jenkins_commit, [jenkins_file_1, jenkins_file_2])\n",
    "print(\"VCC for Jenkins: \" + jenkins_vcc)"
   ]
  },
  {
   "cell_type": "markdown",
   "metadata": {
    "scrolled": false
   },
   "source": [
    "### Jython"
   ]
  },
  {
   "cell_type": "code",
   "execution_count": 7,
   "metadata": {},
   "outputs": [
    {
     "name": "stdout",
     "output_type": "stream",
     "text": [
      "VCC for Jython: f78ec9fea8\n"
     ]
    }
   ],
   "source": [
    "jython_vcc = find_vcc(jython_repo, jython_commit, [jython_file_1, jython_file_2, jython_file_3, jython_file_4])\n",
    "print(\"VCC for Jython: \" + jython_vcc)"
   ]
  },
  {
   "cell_type": "markdown",
   "metadata": {},
   "source": [
    "### Camel"
   ]
  },
  {
   "cell_type": "code",
   "execution_count": 8,
   "metadata": {},
   "outputs": [
    {
     "name": "stdout",
     "output_type": "stream",
     "text": [
      "VCC for Camel: 8afc5d175779\n"
     ]
    }
   ],
   "source": [
    "camel_vcc = find_vcc(camel_repo, camel_commit, [camel_file_1])\n",
    "print(\"VCC for Camel: \" + camel_vcc)"
   ]
  },
  {
   "cell_type": "markdown",
   "metadata": {},
   "source": [
    "## Commit Details"
   ]
  },
  {
   "cell_type": "markdown",
   "metadata": {},
   "source": [
    "### Jenkins"
   ]
  },
  {
   "cell_type": "markdown",
   "metadata": {},
   "source": [
    "__Title, Message, Files Affected, Directories Affected, Lines Deleted & Lines Added - With Comments & Blank Lines:__"
   ]
  },
  {
   "cell_type": "code",
   "execution_count": 9,
   "metadata": {},
   "outputs": [
    {
     "name": "stdout",
     "output_type": "stream",
     "text": [
      "commit eb03a42078f29dbed3742b8740c95e02890e4545\n",
      "Author: Jesse Glick <jglick@cloudbees.com>\n",
      "Date:   Tue Jan 30 12:16:42 2018 -0500\n",
      "\n",
      "    [SECURITY-705] Path traversal vulnerability in Plugin.doDynamic.\n",
      "\n",
      " core/src/main/java/hudson/Plugin.java     | 23 ++++++++++-------------\n",
      " test/src/test/java/hudson/PluginTest.java | 15 ++++++++++-----\n",
      " 2 files changed, 20 insertions(+), 18 deletions(-)\n",
      "  50.3% core/src/main/java/hudson/\n",
      "  49.6% test/src/test/java/hudson/\n"
     ]
    }
   ],
   "source": [
    "jenkins_data = jenkins_repo.git.show(\"--pretty=medium\", \"--stat\", \"--dirstat\", \"-1\", jenkins_vcc).splitlines()\n",
    "for line in jenkins_data:\n",
    "    print(line)"
   ]
  },
  {
   "cell_type": "markdown",
   "metadata": {},
   "source": [
    "__Title, Message, Files Affected, Directories Affected, Lines Deleted & Lines Added - Without Comments & Blank Lines:__"
   ]
  },
  {
   "cell_type": "code",
   "execution_count": 10,
   "metadata": {},
   "outputs": [
    {
     "name": "stdout",
     "output_type": "stream",
     "text": [
      "commit eb03a42078f29dbed3742b8740c95e02890e4545\n",
      "Author: Jesse Glick <jglick@cloudbees.com>\n",
      "Date:   Tue Jan 30 12:16:42 2018 -0500\n",
      "\n",
      "    [SECURITY-705] Path traversal vulnerability in Plugin.doDynamic.\n",
      "\n",
      " core/src/main/java/hudson/Plugin.java     | 23 ++++++++++-------------\n",
      " test/src/test/java/hudson/PluginTest.java | 15 ++++++++++-----\n",
      " 2 files changed, 20 insertions(+), 18 deletions(-)\n",
      "  50.3% core/src/main/java/hudson/\n",
      "  49.6% test/src/test/java/hudson/\n"
     ]
    }
   ],
   "source": [
    "jenkins_data = jenkins_repo.git.log(\"--pretty=medium\", \"--stat\", \"--dirstat\", \"--ignore-blank-lines\", \"-1\", jenkins_vcc).splitlines()\n",
    "for line in jenkins_data:\n",
    "    print(line)"
   ]
  },
  {
   "cell_type": "markdown",
   "metadata": {},
   "source": [
    "__Time Since Last Modification & Total Number Of Modifications Since Creation:__"
   ]
  },
  {
   "cell_type": "code",
   "execution_count": 11,
   "metadata": {},
   "outputs": [
    {
     "name": "stdout",
     "output_type": "stream",
     "text": [
      "core/src/main/java/hudson/Plugin.java:\n",
      "\n",
      "Tue Jan 30 12:16:42 2018 -0500\n",
      "Sun Feb 12 05:38:30 2017 -0500\n",
      "Days Difference: 352.2765277777778\n",
      "\n",
      "1: eb03a42078 [SECURITY-705] Path traversal vulnerability in Plugin.doDynamic.\n",
      "2: 496703d0fe Spelling fixes in changelogs, Javadoc, logs and UI (#2718)\n",
      "3: 3a83504e3d Deprecating subclassing of Plugin.\n",
      "4: 1709ed3a2e Add @Deprecated annotations to things documented as @deprecated.\n",
      "5: c80741615b Revert \"This is failing the animal sniffer test\"\n",
      "6: 3e15684f75 This is failing the animal sniffer test\n",
      "7: 680c54887b Updating javadoc based on PR feedback\n",
      "8: 259f5e1780 Updating javadoc of Plugin, LabelAtomProperty, GlobalConfiguration with my observations from working on my plugin\n",
      "9: f0a29b562e [FIXED SECURITY-155] Do not allow plugin code to be downloaded via doDynamic, only static resources.\n",
      "10: 71a28615e3 [FIXED SECURITY-131] Recode restOfPath before constructing URLs from it, so it cannot be used for directory traversal.\n",
      "11: fe8f140f04 Recognize /static/.../ and serve long expiration headers.\n",
      "12: 386618dca4 support new JenkinsPlugin type (jpi)\n",
      "13: 481b43f607 defined a getter. needed by the ruby effort\n",
      "14: 73509dd151 clarifying the behaviour.\n",
      "15: 5679d019ec Move hudson.model.Jenkins to be jenkins.model.Jenkins - part II\n",
      "16: 70c1065814 Stage 1 : Create hudson.model.Jenkins, make Hudson derive from Jenkins.\n",
      "17: 5571e430d1 remove wasteful duplicate method calls\n",
      "18: 91bffe3b46 Adding SaveableListener, with calls to SaveableListener.fireOnChange in Saveable.save implementations\n",
      "19: cbb3e313ad Merged revisions 20928-20929,20939,20974-20975,20988,21009,21011,21015 via svnmerge from https://www.dev.java.net/svn/hudson/branches/rc\n",
      "20: b25351ccce Updated @since for tool auto-installation.\n",
      "21: ec6a98b64a recording the version where the tool-autoinstallation branch is merged\n",
      "22: 2a8a0bf7fa Merged revisions 17324-17325,17428,17430,17473-17475,17481-17482,17555-17563,17571,17593-17595,17619-17620,17637-17644,17656-17657,17663-17665,17667-17670,17730,17753,17755-17758,17763-17768,17770-17771,17901,17906,17911-17912,17958,17961-17962,17970-17977 via svnmerge from https://www.dev.java.net/svn/hudson/branches/tool-autoinstallation\n",
      "23: ee2dcbd3a5 added one more initialization hook.\n",
      "24: f1dfa6ff6d doc improvement\n",
      "25: 29697efdfa Plugin is now optional\n",
      "26: 1a1d0d74d5 license header clean up\n",
      "27: 8339f02284 Added a mechanism to perform a bulk change without intermediate save().\n",
      "28: 7b8f27fd18 doc improvement.\n",
      "29: 365665f37e defining methods for persisting data.\n",
      "30: 2764d166a3 Adding a mechanism for plugins to contribute to the global configuration page directly.\n",
      "31: 4ca8265e26 integrated locale-specific resource selection for plugins (http://www.nabble.com/I18n%3A-help.html-for-plugin-config-screen--tp16007552p16007552.html)\n",
      "32: 28663c1557 clarified that @plugin is no longer necessary.\n",
      "33: ead073885b doc improvement.\n",
      "34: 19860fa070 merging remoting-integration branch\n",
      "35: 41e35fc081 doc improvement.\n",
      "36: 239948d4d4 Some compiler lint.\n",
      "37: 8a0dc230f4 initial commit for a new layout.\n",
      "\n",
      "\n",
      "test/src/test/java/hudson/PluginTest.java:\n",
      "\n",
      "Tue Jan 30 12:16:42 2018 -0500\n",
      "Fri Aug 21 21:08:47 2015 +0300\n",
      "Days Difference: 892.9638310185185\n",
      "\n",
      "1: eb03a42078 [SECURITY-705] Path traversal vulnerability in Plugin.doDynamic.\n",
      "2: a2ba196e63 test-annotations -> 1.2\n",
      "3: 2852afa96e comment\n",
      "4: f0a29b562e [FIXED SECURITY-155] Do not allow plugin code to be downloaded via doDynamic, only static resources.\n",
      "5: a623c8e30d Using proper @Issue annotation.\n",
      "6: 71a28615e3 [FIXED SECURITY-131] Recode restOfPath before constructing URLs from it, so it cannot be used for directory traversal.\n",
      "7: b1c82f1e30 stephenc asks to use TODO rather than XXX\n",
      "8: 688420177a [FIXED JENKINS-17933] Catch errors in init.groovy.\n",
      "9: fd31a5d85c [FIXED JENKINS-15309] Be robust against serialized ListView with jobNames==null.\n",
      "10: a8ba1162a3 Introduced MockFolder for testing.\n",
      "11: 2658f36994 Basic implementation of prevalidateConfig working.\n",
      "12: 06d4cf11a1 integrated custom annotation checker\n",
      "13: 1a1d0d74d5 license header clean up\n",
      "14: 17cecbc66b added another marker annotation.\n",
      "\n",
      "Total Number of Modifications: 51\n",
      "Average Number of Modifications: 25.5\n"
     ]
    }
   ],
   "source": [
    "file_1 = \"core/src/main/java/hudson/Plugin.java\"\n",
    "file_2 = \"test/src/test/java/hudson/PluginTest.java\"\n",
    "\n",
    "date_1 = \"\"\n",
    "date_2 = \"\"\n",
    "\n",
    "total = 0\n",
    "count = 0\n",
    "print(file_1 + \":\\n\")\n",
    "jenkins_data = jenkins_repo.git.log(\"--follow\", \"-n 2\", \"--format=%ad\", jenkins_vcc, file_1).splitlines()\n",
    "for line in jenkins_data:\n",
    "    print(line)\n",
    "    date_2 = date_1\n",
    "    date_1 = datetime.strptime(line,\"%c %z\")\n",
    "    if date_2 != \"\":\n",
    "        print(\"Days Difference: \" + str((date_2 - date_1).total_seconds() / 86400))\n",
    "    \n",
    "print(\"\")\n",
    "jenkins_data = jenkins_repo.git.log(\"--follow\", \"--oneline\", jenkins_vcc, file_1).splitlines()\n",
    "for line in jenkins_data:\n",
    "    count += 1\n",
    "    print(str(count) + \": \" + line)\n",
    "\n",
    "date_1 = \"\"\n",
    "date_2 = \"\"\n",
    "total += count\n",
    "count = 0\n",
    "print(\"\\n\")\n",
    "print(file_2 + \":\\n\")\n",
    "jenkins_data = jenkins_repo.git.log(\"--follow\", \"-n 2\", \"--format=%ad\", jenkins_vcc, file_2).splitlines()\n",
    "for line in jenkins_data:\n",
    "    print(line)\n",
    "    date_2 = date_1\n",
    "    date_1 = datetime.strptime(line,\"%c %z\")\n",
    "    if date_2 != \"\":\n",
    "        print(\"Days Difference: \" + str((date_2 - date_1).total_seconds() / 86400))\n",
    "    \n",
    "print(\"\")\n",
    "jenkins_data = jenkins_repo.git.log(\"--follow\", \"--oneline\", jenkins_vcc, file_2).splitlines()\n",
    "for line in jenkins_data:\n",
    "    count += 1\n",
    "    print(str(count) + \": \" + line)\n",
    "    \n",
    "total += count\n",
    "print(\"\")\n",
    "print(\"Total Number of Modifications: \" + str(total))\n",
    "print(\"Average Number of Modifications: \" + str(total / 2))"
   ]
  },
  {
   "cell_type": "markdown",
   "metadata": {},
   "source": [
    "__Developers & Their Number Of Commits:__"
   ]
  },
  {
   "cell_type": "code",
   "execution_count": 12,
   "metadata": {},
   "outputs": [
    {
     "name": "stdout",
     "output_type": "stream",
     "text": [
      "core/src/main/java/hudson/Plugin.java:\n",
      "\n",
      "    17\tkohsuke <kohsuke@71c3de6d-444a-0410-be80-ed276b4c234a>\n",
      "     5\tJesse Glick <jglick@cloudbees.com>\n",
      "     4\tKohsuke Kawaguchi <kk@kohsuke.org>\n",
      "     2\tDominique <dominiquebrice@users.noreply.github.com>\n",
      "     2\tNigel Magnay <nigel.magnay@gmail.com>\n",
      "     2\tjglick <jglick@71c3de6d-444a-0410-be80-ed276b4c234a>\n",
      "     1\tDave Brosius <dbrosius@mebigfatguy.com>\n",
      "     1\tDavid Hoover <dhoover@google.com>\n",
      "     1\tJosh Soref <jsoref@users.noreply.github.com>\n",
      "     1\tabayer <abayer@71c3de6d-444a-0410-be80-ed276b4c234a>\n",
      "     1\timod <domi@fortysix.ch>\n",
      "\n",
      "test/src/test/java/hudson/PluginTest.java:\n",
      "\n",
      "     6\tJesse Glick <jglick@cloudbees.com>\n",
      "     1\tKanstantsin Shautsou <kanstantsin.sha@gmail.com>\n",
      "\n",
      "Total number of developers: 13\n",
      "Average number of developers: 6.5\n"
     ]
    }
   ],
   "source": [
    "developers = 0\n",
    "\n",
    "print(file_1 + \":\\n\")\n",
    "jenkins_authors = jenkins_repo.git.shortlog(\"-sne\", jenkins_vcc, file_1).splitlines()\n",
    "for line in jenkins_authors:\n",
    "    developers += 1\n",
    "    print(line)\n",
    "    \n",
    "print(\"\")\n",
    "print(file_2 + \":\\n\")\n",
    "jenkins_authors = jenkins_repo.git.shortlog(\"-sne\", jenkins_vcc, file_2).splitlines()\n",
    "for line in jenkins_authors:\n",
    "    developers += 1\n",
    "    print(line)\n",
    "    \n",
    "print(\"\")\n",
    "print(\"Total number of developers: \" + str(developers))\n",
    "print(\"Average number of developers: \" + str(developers / 2))"
   ]
  },
  {
   "cell_type": "markdown",
   "metadata": {},
   "source": [
    "### Jython"
   ]
  },
  {
   "cell_type": "markdown",
   "metadata": {},
   "source": [
    "__Title, Message, Files Affected, Directories Affected, Lines Deleted & Lines Added - With Comments & Blank Lines:__"
   ]
  },
  {
   "cell_type": "code",
   "execution_count": 13,
   "metadata": {},
   "outputs": [
    {
     "name": "stdout",
     "output_type": "stream",
     "text": [
      "commit f78ec9fea8a51c2c8e91f36db3c604a425cbe2ab\n",
      "Author: Frank Wierzbicki <fwierzbicki@gmail.com>\n",
      "Date:   Thu May 19 16:44:23 2011 -0700\n",
      "\n",
      "    from https://svn.python.org/projects/python/branches/release26-maint/Lib/test/test_new.py@88766\n",
      "\n",
      " Lib/test/test_new.py | 343 ++++++++++++++++++++++++---------------------------\n",
      " 1 file changed, 162 insertions(+), 181 deletions(-)\n",
      " 100.0% Lib/test/\n"
     ]
    }
   ],
   "source": [
    "jython_data = jython_repo.git.log(\"--pretty=medium\", \"--stat\", \"--dirstat\", \"-1\", jython_vcc).splitlines()\n",
    "for line in jython_data:\n",
    "    print(line)"
   ]
  },
  {
   "cell_type": "markdown",
   "metadata": {},
   "source": [
    "__Title, Message, Files Affected, Directories Affected, Lines Deleted & Lines Added - Without Comments & Blank Lines:__"
   ]
  },
  {
   "cell_type": "code",
   "execution_count": 14,
   "metadata": {},
   "outputs": [
    {
     "name": "stdout",
     "output_type": "stream",
     "text": [
      "commit f78ec9fea8a51c2c8e91f36db3c604a425cbe2ab\n",
      "Author: Frank Wierzbicki <fwierzbicki@gmail.com>\n",
      "Date:   Thu May 19 16:44:23 2011 -0700\n",
      "\n",
      "    from https://svn.python.org/projects/python/branches/release26-maint/Lib/test/test_new.py@88766\n",
      "\n",
      " Lib/test/test_new.py | 343 ++++++++++++++++++++++++---------------------------\n",
      " 1 file changed, 162 insertions(+), 181 deletions(-)\n",
      " 100.0% Lib/test/\n"
     ]
    }
   ],
   "source": [
    "jython_data = jython_repo.git.log(\"--pretty=medium\", \"--stat\", \"--dirstat\", \"--ignore-blank-lines\", \"-1\", jython_vcc).splitlines()\n",
    "for line in jython_data:\n",
    "    print(line)"
   ]
  },
  {
   "cell_type": "markdown",
   "metadata": {},
   "source": [
    "__Time Since Last Modification & Total Number Of Modifications Since Creation:__"
   ]
  },
  {
   "cell_type": "code",
   "execution_count": 15,
   "metadata": {},
   "outputs": [
    {
     "name": "stdout",
     "output_type": "stream",
     "text": [
      "Lib/test/test_new.py:\n",
      "\n",
      "Thu May 19 16:44:23 2011 -0700\n",
      "Fri Mar 6 16:15:19 2009 +0000\n",
      "Days Difference: 804.3118518518519\n",
      "\n",
      "1: f78ec9fea from https://svn.python.org/projects/python/branches/release26-maint/Lib/test/test_new.py@88766\n",
      "2: ea1f56be8 Merged revisions 5752,5756-5758,5761-5763,5765-5775,5778-5816,5818-5840,5842-5847,5854,5857-5859,5863-5865,5869,5875,5877,5884-5885,5889-5893,5900-5901,5903-5906,5908,5912-5918,5920,5923,5925,5927,5930-5932,5934-5947,5950-5951,5953-5957,5959,5961,5965-5966,5971-5976,5978-5979,5981-5983,5992,6001,6003,6006-6014,6023,6031-6037,6039-6040,6045-6047,6049-6052,6061-6065,6071 via svnmerge from https://jython.svn.sourceforge.net/svnroot/jython/trunk/jython\n",
      "3: 8d116419e maybe 'never' was too strong for new.code in Jython.  Disable test for now.\n",
      "4: e86f33ca4 from http://svn.python.org/projects/python/branches/release25-maint/Lib/test/test_new@52060\n",
      "\n",
      "Total Number of Modifications: 4\n",
      "Average Number of Modifications: 4.0\n"
     ]
    }
   ],
   "source": [
    "file_1 = \"Lib/test/test_new.py\"\n",
    "\n",
    "date_1 = \"\"\n",
    "date_2 = \"\"\n",
    "\n",
    "total = 0\n",
    "count = 0\n",
    "print(file_1 + \":\\n\")\n",
    "jython_data = jython_repo.git.log(\"--follow\", \"-n 2\", \"--format=%ad\", jython_vcc, file_1).splitlines()\n",
    "for line in jython_data:\n",
    "    print(line)\n",
    "    date_2 = date_1\n",
    "    date_1 = datetime.strptime(line,\"%c %z\")\n",
    "    if date_2 != \"\":\n",
    "        print(\"Days Difference: \" + str((date_2 - date_1).total_seconds() / 86400))\n",
    "    \n",
    "print(\"\")\n",
    "jython_data = jython_repo.git.log(\"--follow\", \"--oneline\", jython_vcc, file_1).splitlines()\n",
    "for line in jython_data:\n",
    "    count += 1\n",
    "    print(str(count) + \": \" + line)\n",
    "\n",
    "total += count\n",
    "print(\"\")\n",
    "print(\"Total Number of Modifications: \" + str(total))\n",
    "print(\"Average Number of Modifications: \" + str(total / 1))"
   ]
  },
  {
   "cell_type": "markdown",
   "metadata": {},
   "source": [
    "__Developers & Their Number Of Commits:__"
   ]
  },
  {
   "cell_type": "code",
   "execution_count": 16,
   "metadata": {},
   "outputs": [
    {
     "name": "stdout",
     "output_type": "stream",
     "text": [
      "Lib/test/test_new.py:\n",
      "\n",
      "     3\tFrank Wierzbicki <fwierzbicki@gmail.com>\n",
      "\n",
      "Total number of developers: 1\n",
      "Average number of developers: 1.0\n"
     ]
    }
   ],
   "source": [
    "developers = 0\n",
    "\n",
    "print(file_1 + \":\\n\")\n",
    "jython_authors = jython_repo.git.shortlog(\"-sne\", jython_vcc, file_1).splitlines()\n",
    "for line in jython_authors:\n",
    "    developers += 1\n",
    "    print(line)\n",
    "    \n",
    "print(\"\")\n",
    "print(\"Total number of developers: \" + str(developers))\n",
    "print(\"Average number of developers: \" + str(developers / 1))"
   ]
  },
  {
   "cell_type": "markdown",
   "metadata": {},
   "source": [
    "### Camel"
   ]
  },
  {
   "cell_type": "markdown",
   "metadata": {},
   "source": [
    "__Title, Message, Files Affected, Directories Affected, Lines Deleted & Lines Added - With Comments & Blank Lines:__"
   ]
  },
  {
   "cell_type": "code",
   "execution_count": 17,
   "metadata": {},
   "outputs": [
    {
     "name": "stdout",
     "output_type": "stream",
     "text": [
      "commit 8afc5d1757795fde715902067360af5d90f046da\n",
      "Author: Franz Forsthofer <franz.forsthofer@sap.com>\n",
      "Date:   Fri Feb 24 13:57:10 2017 +0100\n",
      "\n",
      "    CAMEL-10894:  DTD handling in the XML Validator corrected\n",
      "\n",
      " .../camel/processor/validation/SchemaReader.java   | 15 +++-\n",
      " .../validator/ValidatorDtdAccessAbstractTest.java  | 86 ++++++++++++++++++++++\n",
      " .../validator/ValidatorDtdAccessOffTest.java       | 61 +++++++++++++++\n",
      " .../validator/ValidatorDtdAccessOnTest.java        | 61 +++++++++++++++\n",
      " 4 files changed, 221 insertions(+), 2 deletions(-)\n",
      "   6.8% camel-core/src/main/java/org/apache/camel/processor/validation/\n",
      "  93.1% camel-core/src/test/java/org/apache/camel/component/validator/\n"
     ]
    }
   ],
   "source": [
    "camel_data = camel_repo.git.show(\"--pretty=medium\", \"--stat\", \"--dirstat\", \"-1\", camel_vcc).splitlines()\n",
    "for line in camel_data:\n",
    "    print(line)"
   ]
  },
  {
   "cell_type": "markdown",
   "metadata": {},
   "source": [
    "__Title, Message, Files Affected, Directories Affected, Lines Deleted & Lines Added - Without Comments & Blank Lines:__"
   ]
  },
  {
   "cell_type": "code",
   "execution_count": 18,
   "metadata": {},
   "outputs": [
    {
     "name": "stdout",
     "output_type": "stream",
     "text": [
      "commit 8afc5d1757795fde715902067360af5d90f046da\n",
      "Author: Franz Forsthofer <franz.forsthofer@sap.com>\n",
      "Date:   Fri Feb 24 13:57:10 2017 +0100\n",
      "\n",
      "    CAMEL-10894:  DTD handling in the XML Validator corrected\n",
      "\n",
      " .../camel/processor/validation/SchemaReader.java   | 14 +++-\n",
      " .../validator/ValidatorDtdAccessAbstractTest.java  | 86 ++++++++++++++++++++++\n",
      " .../validator/ValidatorDtdAccessOffTest.java       | 61 +++++++++++++++\n",
      " .../validator/ValidatorDtdAccessOnTest.java        | 61 +++++++++++++++\n",
      " 4 files changed, 221 insertions(+), 1 deletion(-)\n",
      "   6.8% camel-core/src/main/java/org/apache/camel/processor/validation/\n",
      "  93.1% camel-core/src/test/java/org/apache/camel/component/validator/\n"
     ]
    }
   ],
   "source": [
    "camel_data = camel_repo.git.show(\"--pretty=medium\", \"--stat\", \"--dirstat\", \"--ignore-blank-lines\", \"-1\", camel_vcc).splitlines()\n",
    "for line in camel_data:\n",
    "    print(line)"
   ]
  },
  {
   "cell_type": "markdown",
   "metadata": {},
   "source": [
    "__Time Since Last Modification & Total Number Of Modifications Since Creation:__"
   ]
  },
  {
   "cell_type": "code",
   "execution_count": 19,
   "metadata": {},
   "outputs": [
    {
     "name": "stdout",
     "output_type": "stream",
     "text": [
      "camel-core/src/main/java/org/apache/camel/processor/validation/SchemaReader.java:\n",
      "\n",
      "Fri Feb 24 13:57:10 2017 +0100\n",
      "Thu Nov 10 18:22:11 2016 +0100\n",
      "Days Difference: 105.81596064814815\n",
      "\n",
      "1: 8afc5d17577 CAMEL-10894:  DTD handling in the XML Validator corrected\n",
      "2: 9e4ef7d3652 Fixed few javadoc warnings\n",
      "3: a7d04c7efd4 CAMEL-9572: correction in SchemaReader\n",
      "4: 77e079a8386 CAMEL-9572: Validator: clearSchemaCache method refactored\n",
      "5: 115cb3affbe CAMEL-9517: Validator Endpoint- clearCachedSchema added\n",
      "\n",
      "\n",
      "camel-core/src/test/java/org/apache/camel/component/validator/ValidatorDtdAccessAbstractTest.java:\n",
      "\n",
      "Fri Feb 24 13:57:10 2017 +0100\n",
      "Mon Oct 20 10:33:14 2014 +0800\n",
      "Days Difference: 858.4332870370371\n",
      "\n",
      "1: 8afc5d17577 CAMEL-10894:  DTD handling in the XML Validator corrected\n",
      "2: f8c140f0183 CAMEL-7883 Fixed the CS errors\n",
      "3: d57f402b7fe fix for CAMEL-7883\n",
      "4: 72348dfff3b CAMEL-5608: Ensure validator component closes input stream after usage. Align code with the xlst/xpath is doing. Added option to fail if no body or not.\n",
      "5: 4e171a8630a CAMEL-4342: Validator component can now load message body directly from a file.\n",
      "6: 3ceb5beb46c CAMEL-4031: resource based components no longer depend on Spring JARs.\n",
      "7: 1fc970105ce CAMEL-3676: Removing $ in source files.\n",
      "8: bc5251bbf9f CAMEL-1447: Aligned and renamed the DSL names for try .. catch .. finally so they are the same in Java and Spring DSL.\n",
      "9: c5d4bb575c0 CAMEL-633: Applied patch with thanks to Jonathan.\n",
      "10: abde5bddfc3 Applied the svn properties to components\n",
      "11: 7ff7e701766 Made the soruce more Checkstyle compliant\n",
      "12: 4fd1bf2dbfb patched the XML validation test cases to reuse a common base which uses the <try> <catch> notation in the XML to route based on whether or not validation exceptions occur\n",
      "13: 3faf3db2156 tidied up the test cases and made it a little easier to derive from the validator component to support other schema languages etc\n",
      "14: 98b13d7ec67 add a validator endpoint capable of validating an XSD or RNC file for CAMEL-67\n",
      "\n",
      "\n",
      "camel-core/src/test/java/org/apache/camel/component/validator/ValidatorDtdAccessAbstractTest.java:\n",
      "\n",
      "Fri Feb 24 13:57:10 2017 +0100\n",
      "\n",
      "1: 8afc5d17577 CAMEL-10894:  DTD handling in the XML Validator corrected\n",
      "\n",
      "\n",
      "camel-core/src/test/java/org/apache/camel/component/validator/ValidatorDtdAccessAbstractTest.java:\n",
      "\n",
      "Fri Feb 24 13:57:10 2017 +0100\n",
      "\n",
      "1: 8afc5d17577 CAMEL-10894:  DTD handling in the XML Validator corrected\n",
      "\n",
      "Total Number of Modifications: 21\n",
      "Average Number of Modifications: 5.25\n"
     ]
    }
   ],
   "source": [
    "file_1 = \"camel-core/src/main/java/org/apache/camel/processor/validation/SchemaReader.java\"\n",
    "file_2 = \"camel-core/src/test/java/org/apache/camel/component/validator/ValidatorDtdAccessAbstractTest.java\"\n",
    "file_3 = \"camel-core/src/test/java/org/apache/camel/component/validator/ValidatorDtdAccessOffTest.java\"\n",
    "file_4 = \"camel-core/src/test/java/org/apache/camel/component/validator/ValidatorDtdAccessOnTest.java\"\n",
    "\n",
    "date_1 = \"\"\n",
    "date_2 = \"\"\n",
    "\n",
    "total = 0\n",
    "count = 0\n",
    "print(file_1 + \":\\n\")\n",
    "camel_data = camel_repo.git.log(\"--follow\", \"-n 2\", \"--format=%ad\", camel_vcc, \"--\", file_1).splitlines()\n",
    "for line in camel_data:\n",
    "    print(line)\n",
    "    date_2 = date_1\n",
    "    date_1 = datetime.strptime(line,\"%c %z\")\n",
    "    if date_2 != \"\":\n",
    "        print(\"Days Difference: \" + str((date_2 - date_1).total_seconds() / 86400))\n",
    "    \n",
    "print(\"\")\n",
    "camel_data = camel_repo.git.log(\"--follow\", \"--oneline\", camel_vcc, \"--\", file_1).splitlines()\n",
    "for line in camel_data:\n",
    "    count += 1\n",
    "    print(str(count) + \": \" + line)\n",
    "    \n",
    "date_1 = \"\"\n",
    "date_2 = \"\"\n",
    "total += count\n",
    "count = 0\n",
    "print(\"\\n\")\n",
    "print(file_2 + \":\\n\")\n",
    "camel_data = camel_repo.git.log(\"--follow\", \"-n 2\", \"--format=%ad\", camel_vcc, \"--\", file_2).splitlines()\n",
    "for line in camel_data:\n",
    "    print(line)\n",
    "    date_2 = date_1\n",
    "    date_1 = datetime.strptime(line,\"%c %z\")\n",
    "    if date_2 != \"\":\n",
    "        print(\"Days Difference: \" + str((date_2 - date_1).total_seconds() / 86400))\n",
    "    \n",
    "print(\"\")\n",
    "camel_data = camel_repo.git.log(\"--follow\", \"--oneline\", camel_vcc, \"--\", file_2).splitlines()\n",
    "for line in camel_data:\n",
    "    count += 1\n",
    "    print(str(count) + \": \" + line)\n",
    "    \n",
    "date_1 = \"\"\n",
    "date_2 = \"\"\n",
    "total += count\n",
    "count = 0\n",
    "print(\"\\n\")\n",
    "print(file_2 + \":\\n\")\n",
    "camel_data = camel_repo.git.log(\"--follow\", \"-n 2\", \"--format=%ad\", camel_vcc, \"--\", file_3).splitlines()\n",
    "for line in camel_data:\n",
    "    print(line)\n",
    "    date_2 = date_1\n",
    "    date_1 = datetime.strptime(line,\"%c %z\")\n",
    "    if date_2 != \"\":\n",
    "        print(\"Days Difference: \" + str((date_2 - date_1).total_seconds() / 86400))\n",
    "    \n",
    "print(\"\")\n",
    "camel_data = camel_repo.git.log(\"--follow\", \"--oneline\", camel_vcc, \"--\", file_3).splitlines()\n",
    "for line in camel_data:\n",
    "    count += 1\n",
    "    print(str(count) + \": \" + line)\n",
    "    \n",
    "date_1 = \"\"\n",
    "date_2 = \"\"\n",
    "total += count\n",
    "count = 0\n",
    "print(\"\\n\")\n",
    "print(file_2 + \":\\n\")\n",
    "camel_data = camel_repo.git.log(\"--follow\", \"-n 2\", \"--format=%ad\", camel_vcc, \"--\", file_4).splitlines()\n",
    "for line in camel_data:\n",
    "    print(line)\n",
    "    date_2 = date_1\n",
    "    date_1 = datetime.strptime(line,\"%c %z\")\n",
    "    if date_2 != \"\":\n",
    "        print(\"Days Difference: \" + str((date_2 - date_1).total_seconds() / 86400))\n",
    "    \n",
    "print(\"\")\n",
    "camel_data = camel_repo.git.log(\"--follow\", \"--oneline\", camel_vcc, \"--\", file_4).splitlines()\n",
    "for line in camel_data:\n",
    "    count += 1\n",
    "    print(str(count) + \": \" + line)\n",
    "\n",
    "total += count\n",
    "print(\"\")\n",
    "print(\"Total Number of Modifications: \" + str(total))\n",
    "print(\"Average Number of Modifications: \" + str(total / 4))"
   ]
  },
  {
   "cell_type": "markdown",
   "metadata": {},
   "source": [
    "__Developers & Their Number Of Commits:__"
   ]
  },
  {
   "cell_type": "code",
   "execution_count": 20,
   "metadata": {},
   "outputs": [
    {
     "name": "stdout",
     "output_type": "stream",
     "text": [
      "camel-core/src/main/java/org/apache/camel/processor/validation/SchemaReader.java:\n",
      "\n",
      "     4\tFranz Forsthofer <franz.forsthofer@sap.com>\n",
      "     1\taldettinger <aldettinger@gmail.com>\n",
      "\n",
      "camel-core/src/test/java/org/apache/camel/component/validator/ValidatorDtdAccessAbstractTest.java:\n",
      "\n",
      "     1\tFranz Forsthofer <franz.forsthofer@sap.com>\n",
      "\n",
      "camel-core/src/test/java/org/apache/camel/component/validator/ValidatorDtdAccessOffTest.java:\n",
      "\n",
      "     1\tFranz Forsthofer <franz.forsthofer@sap.com>\n",
      "\n",
      "camel-core/src/test/java/org/apache/camel/component/validator/ValidatorDtdAccessOnTest.java:\n",
      "\n",
      "     1\tFranz Forsthofer <franz.forsthofer@sap.com>\n",
      "\n",
      "Total number of developers: 5\n",
      "Average number of developers: 1.25\n"
     ]
    }
   ],
   "source": [
    "developers = 0\n",
    "\n",
    "print(file_1 + \":\\n\")\n",
    "camel_authors = camel_repo.git.shortlog(\"-sne\", camel_vcc, \"--\", file_1).splitlines()\n",
    "for line in camel_authors:\n",
    "    developers += 1\n",
    "    print(line)\n",
    "\n",
    "print(\"\")\n",
    "print(file_2 + \":\\n\")\n",
    "camel_authors = camel_repo.git.shortlog(\"-sne\", camel_vcc, \"--\", file_2).splitlines()\n",
    "for line in camel_authors:\n",
    "    developers += 1\n",
    "    print(line)\n",
    "    \n",
    "print(\"\")\n",
    "print(file_3 + \":\\n\")\n",
    "camel_authors = camel_repo.git.shortlog(\"-sne\", camel_vcc, \"--\", file_3).splitlines()\n",
    "for line in camel_authors:\n",
    "    developers += 1\n",
    "    print(line)\n",
    "    \n",
    "print(\"\")\n",
    "print(file_4 + \":\\n\")\n",
    "camel_authors = camel_repo.git.shortlog(\"-sne\", camel_vcc, \"--\", file_4).splitlines()\n",
    "for line in camel_authors:\n",
    "    developers += 1\n",
    "    print(line)\n",
    "    \n",
    "print(\"\")\n",
    "print(\"Total number of developers: \" + str(developers))\n",
    "print(\"Average number of developers: \" + str(developers / 4))"
   ]
  },
  {
   "cell_type": "code",
   "execution_count": null,
   "metadata": {},
   "outputs": [],
   "source": []
  }
 ],
 "metadata": {
  "kernelspec": {
   "display_name": "Python 3",
   "language": "python",
   "name": "python3"
  },
  "language_info": {
   "codemirror_mode": {
    "name": "ipython",
    "version": 3
   },
   "file_extension": ".py",
   "mimetype": "text/x-python",
   "name": "python",
   "nbconvert_exporter": "python",
   "pygments_lexer": "ipython3",
   "version": "3.7.3"
  }
 },
 "nbformat": 4,
 "nbformat_minor": 2
}
